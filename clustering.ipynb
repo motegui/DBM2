{
 "cells": [
  {
   "cell_type": "code",
   "execution_count": 120,
   "metadata": {},
   "outputs": [],
   "source": [
    "import pandas as pd\n",
    "import numpy as np\n",
    "from sklearn.preprocessing import MinMaxScaler\n",
    "from gower import gower_matrix\n",
    "from kmodes.kprototypes import KPrototypes\n",
    "import matplotlib.pyplot as plt\n",
    "from sklearn.cluster import KMeans\n",
    "from sklearn.metrics import confusion_matrix\n",
    "from sklearn.metrics import silhouette_score"
   ]
  },
  {
   "cell_type": "code",
   "execution_count": 113,
   "metadata": {},
   "outputs": [],
   "source": [
    "# Load the Titanic dataset\n",
    "titanic_data = pd.read_csv('titanic_data.csv')\n",
    "\n",
    "# Split the dataset into features and target\n",
    "X = titanic_data.drop('Survived', axis=1)\n",
    "y = titanic_data['Survived']"
   ]
  },
  {
   "cell_type": "markdown",
   "metadata": {},
   "source": [
    "Might move to preprocess"
   ]
  },
  {
   "cell_type": "code",
   "execution_count": 115,
   "metadata": {},
   "outputs": [
    {
     "data": {
      "text/html": [
       "<div>\n",
       "<style scoped>\n",
       "    .dataframe tbody tr th:only-of-type {\n",
       "        vertical-align: middle;\n",
       "    }\n",
       "\n",
       "    .dataframe tbody tr th {\n",
       "        vertical-align: top;\n",
       "    }\n",
       "\n",
       "    .dataframe thead th {\n",
       "        text-align: right;\n",
       "    }\n",
       "</style>\n",
       "<table border=\"1\" class=\"dataframe\">\n",
       "  <thead>\n",
       "    <tr style=\"text-align: right;\">\n",
       "      <th></th>\n",
       "      <th>Age</th>\n",
       "      <th>SibSp</th>\n",
       "      <th>Parch</th>\n",
       "      <th>Fare</th>\n",
       "      <th>Pclass</th>\n",
       "      <th>Sex</th>\n",
       "      <th>Embarked</th>\n",
       "    </tr>\n",
       "  </thead>\n",
       "  <tbody>\n",
       "    <tr>\n",
       "      <th>0</th>\n",
       "      <td>0.447097</td>\n",
       "      <td>0.125</td>\n",
       "      <td>0.000000</td>\n",
       "      <td>0.030352</td>\n",
       "      <td>3</td>\n",
       "      <td>male</td>\n",
       "      <td>S</td>\n",
       "    </tr>\n",
       "    <tr>\n",
       "      <th>1</th>\n",
       "      <td>0.635587</td>\n",
       "      <td>0.000</td>\n",
       "      <td>0.000000</td>\n",
       "      <td>0.024447</td>\n",
       "      <td>2</td>\n",
       "      <td>male</td>\n",
       "      <td>S</td>\n",
       "    </tr>\n",
       "    <tr>\n",
       "      <th>2</th>\n",
       "      <td>0.484795</td>\n",
       "      <td>0.000</td>\n",
       "      <td>0.000000</td>\n",
       "      <td>0.047138</td>\n",
       "      <td>3</td>\n",
       "      <td>male</td>\n",
       "      <td>S</td>\n",
       "    </tr>\n",
       "    <tr>\n",
       "      <th>3</th>\n",
       "      <td>0.258608</td>\n",
       "      <td>0.000</td>\n",
       "      <td>0.000000</td>\n",
       "      <td>0.031425</td>\n",
       "      <td>3</td>\n",
       "      <td>male</td>\n",
       "      <td>S</td>\n",
       "    </tr>\n",
       "    <tr>\n",
       "      <th>4</th>\n",
       "      <td>0.283740</td>\n",
       "      <td>0.000</td>\n",
       "      <td>0.166667</td>\n",
       "      <td>0.123667</td>\n",
       "      <td>1</td>\n",
       "      <td>male</td>\n",
       "      <td>C</td>\n",
       "    </tr>\n",
       "  </tbody>\n",
       "</table>\n",
       "</div>"
      ],
      "text/plain": [
       "        Age  SibSp     Parch      Fare  Pclass   Sex Embarked\n",
       "0  0.447097  0.125  0.000000  0.030352       3  male        S\n",
       "1  0.635587  0.000  0.000000  0.024447       2  male        S\n",
       "2  0.484795  0.000  0.000000  0.047138       3  male        S\n",
       "3  0.258608  0.000  0.000000  0.031425       3  male        S\n",
       "4  0.283740  0.000  0.166667  0.123667       1  male        C"
      ]
     },
     "execution_count": 115,
     "metadata": {},
     "output_type": "execute_result"
    }
   ],
   "source": [
    "# Scale the numerical features\n",
    "scaler = MinMaxScaler()\n",
    "X[['Age', 'SibSp', 'Parch', 'Fare']] = scaler.fit_transform(X[['Age', 'SibSp', 'Parch', 'Fare']])\n",
    "X.head()"
   ]
  },
  {
   "cell_type": "markdown",
   "metadata": {},
   "source": [
    "Function to calculate the purity"
   ]
  },
  {
   "cell_type": "code",
   "execution_count": 103,
   "metadata": {},
   "outputs": [],
   "source": [
    "# Compute purity\n",
    "def compute_purity(labels, true_labels):\n",
    "    contingency_matrix = confusion_matrix(true_labels, labels)\n",
    "    return np.sum(np.amax(contingency_matrix, axis=0)) / np.sum(contingency_matrix)"
   ]
  },
  {
   "cell_type": "markdown",
   "metadata": {},
   "source": [
    "Getting the optimal k by using the elbow method"
   ]
  },
  {
   "cell_type": "code",
   "execution_count": 104,
   "metadata": {},
   "outputs": [
    {
     "data": {
      "image/png": "[encoded data removed]",
      "text/plain": [
       "<Figure size 640x480 with 1 Axes>"
      ]
     },
     "metadata": {},
     "output_type": "display_data"
    }
   ],
   "source": [
    "# Elbow method for kPrototypes\n",
    "# X = X.drop('Pclass', axis=1)\n",
    "cost = []\n",
    "for num_clusters in list(range(1,7)):\n",
    "    kproto = KPrototypes(n_clusters=num_clusters, init='Cao')\n",
    "    kproto.fit_predict(X, categorical=[4,5,6])\n",
    "    cost.append(kproto.cost_)\n",
    " \n",
    "plt.plot(range(1,7) , cost)\n",
    "plt.xlabel(\"Values of K\")\n",
    "plt.ylabel(\"Cost\") \n",
    "plt.show()"
   ]
  },
  {
   "cell_type": "markdown",
   "metadata": {},
   "source": [
    "Calculate the purity of the k-prototypes clusters for k=2 and k=3"
   ]
  },
  {
   "cell_type": "code",
   "execution_count": 117,
   "metadata": {},
   "outputs": [
    {
     "name": "stdout",
     "output_type": "stream",
     "text": [
      "Purity n=2: 0.755331088664422\n",
      "Purity n=3: 0.654320987654321\n"
     ]
    }
   ],
   "source": [
    "# Perform clustering with 2 clusters\n",
    "kproto = KPrototypes(n_clusters=2, init='Cao')\n",
    "clusters = kproto.fit_predict(X, categorical=[4,5,6])\n",
    "\n",
    "# Compute purity\n",
    "purity = compute_purity(clusters, y)\n",
    "print('Purity n=2:', purity)\n",
    "\n",
    "# Perform clustering with 3 clusters\n",
    "kproto = KPrototypes(n_clusters=3, init='Cao')\n",
    "clusters = kproto.fit_predict(X, categorical=[4,5,6])\n",
    "\n",
    "# Compute purity\n",
    "purity = compute_purity(clusters, y)\n",
    "print('Purity n=3:', purity)\n"
   ]
  },
  {
   "cell_type": "markdown",
   "metadata": {},
   "source": [
    "Prob won't use"
   ]
  },
  {
   "cell_type": "code",
   "execution_count": null,
   "metadata": {},
   "outputs": [],
   "source": [
    "# Intra-cluster distance\n",
    "def compute_intra_cluster_distance(data, labels, modes):\n",
    "    intra_distances = []\n",
    "    for cluster_id in np.unique(labels):\n",
    "        cluster_data = data[labels == cluster_id]\n",
    "        cluster_mode = modes[cluster_id].reshape(1, -1)\n",
    "        distances = gower_matrix(cluster_data, cluster_mode)\n",
    "        intra_distances.append(np.mean(distances))\n",
    "    return np.mean(intra_distances)\n",
    "\n",
    "# Inter-cluster distance\n",
    "def compute_inter_cluster_distance(modes):\n",
    "    distances = gower_matrix(modes, modes)\n",
    "    triu_indices = np.triu_indices_from(distances, k=1)\n",
    "    return np.mean(distances[triu_indices])"
   ]
  },
  {
   "cell_type": "code",
   "execution_count": 116,
   "metadata": {},
   "outputs": [
    {
     "ename": "AttributeError",
     "evalue": "'KPrototypes' object has no attribute 'modes_'",
     "output_type": "error",
     "traceback": [
      "\u001b[1;31m---------------------------------------------------------------------------\u001b[0m",
      "\u001b[1;31mAttributeError\u001b[0m                            Traceback (most recent call last)",
      "Cell \u001b[1;32mIn[116], line 7\u001b[0m\n\u001b[0;32m      3\u001b[0m clusters \u001b[38;5;241m=\u001b[39m kproto\u001b[38;5;241m.\u001b[39mfit_predict(X, categorical\u001b[38;5;241m=\u001b[39m[\u001b[38;5;241m4\u001b[39m, \u001b[38;5;241m5\u001b[39m, \u001b[38;5;241m6\u001b[39m])  \u001b[38;5;66;03m# Indices of categorical columns\u001b[39;00m\n\u001b[0;32m      5\u001b[0m \u001b[38;5;66;03m# Compute intra-cluster distance\u001b[39;00m\n\u001b[0;32m      6\u001b[0m \u001b[38;5;66;03m# Ensure `kproto.modes_` aligns with the original feature types\u001b[39;00m\n\u001b[1;32m----> 7\u001b[0m modes \u001b[38;5;241m=\u001b[39m np\u001b[38;5;241m.\u001b[39marray(\u001b[43mkproto\u001b[49m\u001b[38;5;241;43m.\u001b[39;49m\u001b[43mmodes_\u001b[49m, dtype\u001b[38;5;241m=\u001b[39m\u001b[38;5;28mobject\u001b[39m)  \u001b[38;5;66;03m# Modes as NumPy array\u001b[39;00m\n\u001b[0;32m      8\u001b[0m intra_cluster_distance \u001b[38;5;241m=\u001b[39m compute_intra_cluster_distance(X, clusters, modes)\n\u001b[0;32m      9\u001b[0m \u001b[38;5;28mprint\u001b[39m(\u001b[38;5;124m'\u001b[39m\u001b[38;5;124mIntra-cluster distance:\u001b[39m\u001b[38;5;124m'\u001b[39m, intra_cluster_distance)\n",
      "\u001b[1;31mAttributeError\u001b[0m: 'KPrototypes' object has no attribute 'modes_'"
     ]
    }
   ],
   "source": [
    "# Perform clustering with kPrototypes\n",
    "kproto = KPrototypes(n_clusters=3, init='Cao', random_state=42)\n",
    "clusters = kproto.fit_predict(X, categorical=[4, 5, 6])  # Indices of categorical columns\n",
    "\n",
    "# Compute intra-cluster distance\n",
    "# Ensure `kproto.modes_` aligns with the original feature types\n",
    "modes = np.array(kproto.modes_, dtype=object)  # Modes as NumPy array\n",
    "intra_cluster_distance = compute_intra_cluster_distance(X, clusters, modes)\n",
    "print('Intra-cluster distance:', intra_cluster_distance)\n",
    "\n",
    "# Compute inter-cluster distance\n",
    "inter_cluster_distance = compute_inter_cluster_distance(modes)\n",
    "print('Inter-cluster distance:', inter_cluster_distance)"
   ]
  },
  {
   "cell_type": "markdown",
   "metadata": {},
   "source": [
    "Preparing the data for k-means by dropping categorical data"
   ]
  },
  {
   "cell_type": "code",
   "execution_count": 118,
   "metadata": {},
   "outputs": [],
   "source": [
    "# Drop the categorical features\n",
    "X = X.drop(['Pclass', 'Sex', 'Embarked'], axis=1)"
   ]
  },
  {
   "cell_type": "markdown",
   "metadata": {},
   "source": [
    "Getting the optimal k by using silhouette score"
   ]
  },
  {
   "cell_type": "code",
   "execution_count": 121,
   "metadata": {},
   "outputs": [
    {
     "data": {
      "image/png": "[encoded data removed]",
      "text/plain": [
       "<Figure size 800x500 with 1 Axes>"
      ]
     },
     "metadata": {},
     "output_type": "display_data"
    }
   ],
   "source": [
    "# Range of k values to try\n",
    "k_values = range(2, 7)\n",
    "\n",
    "# Store silhouette scores\n",
    "silhouette_scores = []\n",
    "\n",
    "for k in k_values:\n",
    "    # Apply k-means\n",
    "    kmeans = KMeans(n_clusters=k, random_state=42, n_init=10)\n",
    "    cluster_labels = kmeans.fit_predict(X)\n",
    "    \n",
    "    # Calculate silhouette score\n",
    "    score = silhouette_score(X, cluster_labels)\n",
    "    silhouette_scores.append(score)\n",
    "\n",
    "# Plot silhouette scores\n",
    "plt.figure(figsize=(8, 5))\n",
    "plt.plot(k_values, silhouette_scores, marker='o', linestyle='--')\n",
    "plt.xlabel('Number of Clusters (k)')\n",
    "plt.ylabel('Silhouette Score')\n",
    "plt.title('Silhouette Method for Optimal k')\n",
    "plt.grid()\n",
    "plt.show()"
   ]
  },
  {
   "cell_type": "markdown",
   "metadata": {},
   "source": [
    "Prob won't use"
   ]
  },
  {
   "cell_type": "code",
   "execution_count": null,
   "metadata": {},
   "outputs": [],
   "source": [
    "# Use elbow method on kMeans\n",
    "SSE = []\n",
    "for num_clusters in list(range(1,7)):\n",
    "    kmeans = KMeans(n_clusters=num_clusters, random_state=42)\n",
    "    kmeans.fit(X)\n",
    "    SSE.append(kmeans.inertia_)\n",
    "\n",
    "plt.plot(range(1,7) , SSE)\n",
    "plt.xlabel(\"Values of K\")\n",
    "plt.ylabel(\"SSE\")\n",
    "plt.show()\n"
   ]
  },
  {
   "cell_type": "markdown",
   "metadata": {},
   "source": [
    "Calculate the purity of the k-means clusters for k=2 and k=3"
   ]
  },
  {
   "cell_type": "code",
   "execution_count": 119,
   "metadata": {},
   "outputs": [
    {
     "name": "stdout",
     "output_type": "stream",
     "text": [
      "Purity n=2: 0.6161616161616161\n",
      "Purity n=3: 0.6161616161616161\n"
     ]
    }
   ],
   "source": [
    "# Fit the kMeans model with 2 clusters\n",
    "kmeans = KMeans(n_clusters=2)\n",
    "kmeans.fit(X)\n",
    "y_kmeans = kmeans.predict(X)\n",
    "\n",
    "# Purity\n",
    "purity = compute_purity(y_kmeans, y)  # labels: predicted, true_labels: ground truth\n",
    "print(f\"Purity n=2: {purity}\")\n",
    "\n",
    "# Fit the kMeans model with 3 clusters\n",
    "kmeans = KMeans(n_clusters=3)\n",
    "kmeans.fit(X)\n",
    "y_kmeans = kmeans.predict(X)\n",
    "\n",
    "# Purity\n",
    "purity = compute_purity(y_kmeans, y)  # labels: predicted, true_labels: ground truth\n",
    "print(f\"Purity n=3: {purity}\")\n"
   ]
  }
 ],
 "metadata": {
  "kernelspec": {
   "display_name": "env",
   "language": "python",
   "name": "python3"
  },
  "language_info": {
   "codemirror_mode": {
    "name": "ipython",
    "version": 3
   },
   "file_extension": ".py",
   "mimetype": "text/x-python",
   "name": "python",
   "nbconvert_exporter": "python",
   "pygments_lexer": "ipython3",
   "version": "3.12.7"
  }
 },
 "nbformat": 4,
 "nbformat_minor": 2
}
